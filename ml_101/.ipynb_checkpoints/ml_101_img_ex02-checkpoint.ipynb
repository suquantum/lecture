{
 "cells": [
  {
   "cell_type": "markdown",
   "id": "bdd4c62d-c007-4089-a798-0711d83d3d6d",
   "metadata": {},
   "source": [
    "# Agenda\n",
    "We are going to review how to find numerical results with mathematical method which is called backpropagation."
   ]
  },
  {
   "cell_type": "markdown",
   "id": "bd2e0a3a-8bc2-45e6-96fc-199e614d0f8b",
   "metadata": {},
   "source": [
    "# Importing Library\n",
    "The following cell is importing the necessary library. Run each cell to load the input/output.\n",
    "\n",
    "For the basic operation of Jupyter Lab, please refer to the link(https://youtu.be/jZ952vChhuI?t=113)."
   ]
  },
  {
   "cell_type": "code",
   "execution_count": null,
   "id": "7e76d5ba-9513-4cb5-962b-5528bc61777e",
   "metadata": {},
   "outputs": [],
   "source": [
    "import numpy as np\n",
    "import pandas as pd\n",
    "import matplotlib.pyplot as plt\n",
    "\n",
    "from tqdm import tqdm"
   ]
  },
  {
   "cell_type": "code",
   "execution_count": null,
   "id": "44ec4474-1a80-4cb8-b689-d9daea91dfff",
   "metadata": {},
   "outputs": [],
   "source": [
    "# Definition of a simple perceptron for this exercise\n",
    "def perceptron(x, w):\n",
    "    z = x[0] * w[0] + x[1] * w[1] + x[2] * w[2] + w[3]\n",
    "    return 1.0 / (1.0 + np.exp(-z))  # Sigmoid activation function\n",
    "\n",
    "# Definition of iteration\n",
    "def iteration_perceptron(target, iteration_number, eta, initialize):\n",
    "    if initialize == True:\n",
    "        weight_values = [1.0, 2.0, 3.0, 0.1]\n",
    "    else:\n",
    "        pass\n",
    "\n",
    "    print(\"Initial weight_values\")\n",
    "    print(weight_values)\n",
    "    print()    \n",
    "    \n",
    "    obs_metric = []\n",
    "    flag_converge = 0\n",
    "    error_previous = 0.0\n",
    "    for l in tqdm(range(iteration_number)):\n",
    "        for i, j in enumerate(weight_values):\n",
    "            error_function = (target - perceptron(input_x_values, weight_values))**2.0 / 2.0\n",
    "            dev_partial_error_j = (target - perceptron(input_x_values, weight_values)) * perceptron(input_x_values, weight_values) * (1 - perceptron(input_x_values, weight_values))\n",
    "\n",
    "            if abs(error_function - error_previous) <= 10.0**(-8.0):\n",
    "                if i == 3:\n",
    "                    weight_values[i] = j + eta * dev_partial_error_j\n",
    "                else:\n",
    "                    weight_values[i] = j - eta * j * dev_partial_error_j\n",
    "            else:\n",
    "                flag_converge += flag_converge\n",
    "\n",
    "            error_previous = error_function\n",
    "\n",
    "        if iteration_number % 100 == 0:\n",
    "            obs_metric.append([l, perceptron(input_x_values, weight_values)])\n",
    "        if flag_converge >= 10 * 4:\n",
    "            print(\"Converged\")\n",
    "            break\n",
    "\n",
    "    df = pd.DataFrame(\n",
    "        obs_metric,\n",
    "        index=None,\n",
    "        columns=['col1', 'col2'],\n",
    "    )\n",
    "    df[\"target\"] = target\n",
    "    \n",
    "    print(\"Derived weight_values\")\n",
    "    print(weight_values)\n",
    "    return weight_values, df"
   ]
  },
  {
   "cell_type": "code",
   "execution_count": null,
   "id": "22930fa3-44eb-4cec-9ed2-e01cc23b6733",
   "metadata": {},
   "outputs": [],
   "source": [
    "# Target value\n",
    "target = 1.0"
   ]
  },
  {
   "cell_type": "code",
   "execution_count": null,
   "id": "ac5780e4-ced4-4321-ac8a-8eed6706ee6b",
   "metadata": {},
   "outputs": [],
   "source": [
    "# Load input values\n",
    "x1 = 0.1\n",
    "x2 = 0.2\n",
    "x3 = -0.1\n",
    "\n",
    "input_x_values = [x1, x2, x3]"
   ]
  },
  {
   "cell_type": "code",
   "execution_count": null,
   "id": "ae3d174e-5a2c-43ce-ad9e-aec021860cc9",
   "metadata": {},
   "outputs": [],
   "source": [
    "# Load weights\n",
    "w1 = 1.0\n",
    "w2 = 2.0\n",
    "w3 = 3.0\n",
    "\n",
    "# Load and Bias/es\n",
    "b1 = 0.1\n",
    "\n",
    "weight_values = [w1, w2, w3, b1]"
   ]
  },
  {
   "cell_type": "markdown",
   "id": "db200061-b4b1-42d8-b025-63752157389b",
   "metadata": {},
   "source": [
    "The following is the output value which is equivalent to the result. Based on the weights and given inputs, we can calculate the probability from the perceptron."
   ]
  },
  {
   "cell_type": "code",
   "execution_count": null,
   "id": "96295a28-83cc-4afc-87c1-0c8f074b050a",
   "metadata": {},
   "outputs": [],
   "source": [
    "# Print the output\n",
    "result = perceptron(input_x_values, weight_values)\n",
    "print(\"Output value from the given perceptron: \", '{:.5g}'.format(result))"
   ]
  },
  {
   "cell_type": "code",
   "execution_count": null,
   "id": "151f95c6-4b42-40c8-a0a5-3d38bb6728d8",
   "metadata": {},
   "outputs": [],
   "source": [
    "# Initialize result\n",
    "init = perceptron(input_x_values, weight_values)"
   ]
  },
  {
   "cell_type": "code",
   "execution_count": null,
   "id": "190d8142-c21d-4cce-9813-9278f11020eb",
   "metadata": {},
   "outputs": [],
   "source": [
    "# Learning rate\n",
    "eta = 0.0001"
   ]
  },
  {
   "cell_type": "code",
   "execution_count": null,
   "id": "2608c1d7-1d3d-4348-9564-00179399e403",
   "metadata": {},
   "outputs": [],
   "source": [
    "# Error definition\n",
    "error = (target - perceptron(input_x_values, weight_values))**2.0 / 2.0\n",
    "error"
   ]
  },
  {
   "cell_type": "code",
   "execution_count": null,
   "id": "fe75c956-bb26-49ef-bf4a-d7f043c2f359",
   "metadata": {
    "tags": []
   },
   "outputs": [],
   "source": [
    "iteration_number = 1000000\n",
    "initialize = True\n",
    "\n",
    "# Simulation for numerical results\n",
    "weight_values, df = iteration_perceptron(target, iteration_number, eta, initialize)\n",
    "\n",
    "# Plot figure\n",
    "x1 = np.array(df[\"col1\"])\n",
    "y1 = np.array(df[\"col2\"])\n",
    "\n",
    "x2 = np.array(df[\"col1\"])\n",
    "y2 = np.array(df[\"target\"])\n",
    "\n",
    "plt.title(\"Iteration vs. Accuracy\")\n",
    "plt.xlabel(\"Number of iteration\")\n",
    "plt.ylabel(\"Accuracy (%)\")\n",
    "plt.plot(x1, y1)\n",
    "plt.plot(x2, y2, c=\"red\")"
   ]
  },
  {
   "cell_type": "markdown",
   "id": "4323b2bf-5535-4bbb-bdd5-59b133718839",
   "metadata": {},
   "source": [
    "### Exercise 2.1.\n",
    "Change the iteration_number and see how the results progressing. If the iteration is too large, it may use all the computer power."
   ]
  },
  {
   "cell_type": "code",
   "execution_count": null,
   "id": "d4f8530e-817b-4ea0-bb03-91560f2e04ce",
   "metadata": {},
   "outputs": [],
   "source": [
    "#####\n",
    "### YOUR CODE STARTS HERE ###\n",
    "iteration_number = None  # Replace \"None\" with an arbitrary number\n",
    "initialize = True  # Replace \"True\" to \"False\" if you want to use that you store in the memory\n",
    "target = 1.0  # Target value\n",
    "eta = 0.0001  # Learning rate\n",
    "### YOUR CODE ENDS HERE ###\n",
    "#####\n",
    "\n",
    "\n",
    "# Simulation for numerical results\n",
    "weight_values, df = iteration_perceptron(target, iteration_number, eta, initialize)\n",
    "\n",
    "# Plot figure\n",
    "x1 = np.array(df[\"col1\"])\n",
    "y1 = np.array(df[\"col2\"])\n",
    "\n",
    "x2 = np.array(df[\"col1\"])\n",
    "y2 = np.array(df[\"target\"])\n",
    "\n",
    "plt.title(\"Iteration vs. Accuracy\")\n",
    "plt.xlabel(\"Number of iteration\")\n",
    "plt.ylabel(\"Accuracy (%)\")\n",
    "plt.plot(x1, y1)\n",
    "plt.plot(x2, y2, c=\"red\")"
   ]
  },
  {
   "cell_type": "markdown",
   "id": "86f9eeff-2268-4c07-852e-b0750ebcd546",
   "metadata": {},
   "source": [
    "Over 1000000000 of interations, you will get the following weights and probability"
   ]
  },
  {
   "cell_type": "code",
   "execution_count": null,
   "id": "403e1d27-627d-4dc0-8c9a-94765de76191",
   "metadata": {},
   "outputs": [],
   "source": [
    "print(\"Result of over 1000000000 interations\")\n",
    "\n",
    "weight_values = [0.010579862623930129, 0.3562776607142524, 0.005289923340929192, 6.035103126282373]\n",
    "\n",
    "print(\"Weight values:\", weight_values)\n",
    "print(\"Result of the probability:\", perceptron(input_x_values, weight_values))"
   ]
  },
  {
   "cell_type": "code",
   "execution_count": null,
   "id": "9fd58f4d-b67e-4c7e-b19d-d43b936482d8",
   "metadata": {},
   "outputs": [],
   "source": []
  }
 ],
 "metadata": {
  "kernelspec": {
   "display_name": "Python 3 (ipykernel)",
   "language": "python",
   "name": "python3"
  },
  "language_info": {
   "codemirror_mode": {
    "name": "ipython",
    "version": 3
   },
   "file_extension": ".py",
   "mimetype": "text/x-python",
   "name": "python",
   "nbconvert_exporter": "python",
   "pygments_lexer": "ipython3",
   "version": "3.7.12"
  }
 },
 "nbformat": 4,
 "nbformat_minor": 5
}
