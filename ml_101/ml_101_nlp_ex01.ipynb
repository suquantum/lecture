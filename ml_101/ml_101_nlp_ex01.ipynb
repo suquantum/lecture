{
 "cells": [
  {
   "cell_type": "markdown",
   "id": "f41ea8da-6933-4dd5-b2d7-cffaaa77de5c",
   "metadata": {},
   "source": [
    "# Setting for Google Colabo\n",
    "If you set up your local environments, you can skip the following cells and go to \"Agenda.\""
   ]
  },
  {
   "cell_type": "code",
   "execution_count": null,
   "id": "e4505e25-6ce7-4ae0-a7f5-6bcd1d4b9c9d",
   "metadata": {},
   "outputs": [],
   "source": [
    "!pip install tabula==1.0.5\n",
    "!pip install pdfminer.six==20211012"
   ]
  },
  {
   "cell_type": "markdown",
   "id": "a6b1c849-ed96-441d-9ade-1596fc0fe4ac",
   "metadata": {
    "tags": []
   },
   "source": [
    "# Agenda\n",
    "We are going to review data gathering and cleaning. Also, we review interpolation and extrapolation."
   ]
  },
  {
   "cell_type": "markdown",
   "id": "ed3de0bf-5640-464b-852e-ac117e20acc7",
   "metadata": {},
   "source": [
    "# Importing Library\n",
    "The following cell is importing the necessary library. Run each cell to load the input/output.\n",
    "\n",
    "For the basic operation of Jupyter Lab, please refer to the link(https://youtu.be/jZ952vChhuI?t=113)."
   ]
  },
  {
   "cell_type": "code",
   "execution_count": null,
   "id": "837b4eac-f03c-453f-bf9b-63d96812a701",
   "metadata": {},
   "outputs": [],
   "source": [
    "pip install --upgrade pip setuptools"
   ]
  },
  {
   "cell_type": "code",
   "execution_count": null,
   "id": "5b58bd0a-a159-4e6c-a855-f5e3e058066c",
   "metadata": {},
   "outputs": [],
   "source": [
    "pip install mecab"
   ]
  },
  {
   "cell_type": "code",
   "execution_count": null,
   "id": "85ca0759-6cbd-4bac-a744-6e7d850c8089",
   "metadata": {
    "tags": []
   },
   "outputs": [],
   "source": [
    "pip install matplotlib"
   ]
  },
  {
   "cell_type": "code",
   "execution_count": null,
   "id": "2da8b6e5-734a-4788-9178-12e9f19c8294",
   "metadata": {
    "tags": []
   },
   "outputs": [],
   "source": [
    "pip install japanize-matplotlib"
   ]
  },
  {
   "cell_type": "code",
   "execution_count": null,
   "id": "eb565738-33f1-4a53-b9e9-890be1861dca",
   "metadata": {},
   "outputs": [],
   "source": [
    "import pandas as pd\n",
    "\n",
    "import matplotlib.pyplot as plt\n",
    "import japanize_matplotlib\n",
    "\n",
    "from sklearn.feature_extraction.text import CountVectorizer"
   ]
  },
  {
   "cell_type": "code",
   "execution_count": null,
   "id": "517e8b3c-4982-4acf-a1ac-3bca8e84f430",
   "metadata": {},
   "outputs": [],
   "source": [
    "import MeCab\n",
    "t = MeCab.Tagger()\n",
    "sentence = \"太郎はこの本を女性に渡した。\"\n",
    "print(t.parse(sentence))"
   ]
  },
  {
   "cell_type": "code",
   "execution_count": null,
   "id": "acd9d9df-d96e-442d-84f2-1c6b77ee0df0",
   "metadata": {},
   "outputs": [],
   "source": [
    "corpus = [\n",
    "    '私 は パン です 。',\n",
    "    '私 は パン を 食べる 。',\n",
    "    '僕 の ご飯 は ご飯 です 。'\n",
    "]"
   ]
  },
  {
   "cell_type": "code",
   "execution_count": null,
   "id": "cf91b08d-9f32-4b82-bae6-c58f85243a98",
   "metadata": {},
   "outputs": [],
   "source": [
    "vectorizer = CountVectorizer(ngram_range=(1, 1), analyzer='word')\n",
    "X = vectorizer.fit_transform(corpus)\n",
    "\n",
    "X_arr = X.toarray()\n",
    "df = pd.DataFrame(X_arr, columns=vectorizer.get_feature_names_out())\n",
    "\n",
    "df"
   ]
  },
  {
   "cell_type": "code",
   "execution_count": null,
   "id": "9e828280-f40a-42da-9de0-dde3ef6b48cd",
   "metadata": {},
   "outputs": [],
   "source": [
    "px, py = [], []\n",
    "for i in range(len(df.index)):\n",
    "    px.append(df.columns.tolist())\n",
    "    py.append(df.loc[i].tolist())\n",
    "\n",
    "label = df.columns.tolist()\n",
    "fig = plt.figure(tight_layout=True)\n",
    "\n",
    "ax1 = fig.add_subplot(1, 3, 1)\n",
    "ax1.bar(px[0], py[0])\n",
    "ax1.set_ylim(bottom=0, top=2)\n",
    "ax1.set_title(corpus[0])\n",
    "\n",
    "ax2 = fig.add_subplot(1, 3, 2)\n",
    "ax2.bar(px[1], py[1])\n",
    "ax2.set_ylim(bottom=0, top=2)\n",
    "ax2.set_title(corpus[1])\n",
    "\n",
    "ax3 = fig.add_subplot(1, 3, 3)\n",
    "ax3.bar(px[2], py[2])\n",
    "ax3.set_ylim(bottom=0, top=2)\n",
    "ax3.set_title(corpus[2])\n",
    "\n",
    "plt.show()"
   ]
  },
  {
   "cell_type": "code",
   "execution_count": null,
   "id": "b4cdb0f2-bae7-4a4a-9dcf-c1a25f9a4ae8",
   "metadata": {},
   "outputs": [],
   "source": [
    "haiku = [\n",
    "    '松島や、',\n",
    "    'ああ、松島や',\n",
    "    '松島や'\n",
    "]"
   ]
  },
  {
   "cell_type": "code",
   "execution_count": null,
   "id": "640f571e-899b-4bed-86b2-306462cd6d7f",
   "metadata": {},
   "outputs": [],
   "source": [
    "vectorizer = CountVectorizer(ngram_range=(1, 1), analyzer='word')\n",
    "Xw = vectorizer.fit_transform(haiku)\n",
    "\n",
    "df_v = pd.DataFrame(Xw.toarray(), columns=vectorizer.get_feature_names_out())\n",
    "df_v"
   ]
  },
  {
   "cell_type": "code",
   "execution_count": null,
   "id": "2101a7e8-287b-44b5-bf77-c83334c3b0c2",
   "metadata": {},
   "outputs": [],
   "source": [
    "from sklearn.feature_extraction.text import TfidfVectorizer\n",
    "\n",
    "vectorizer = TfidfVectorizer(ngram_range=(1, 1), analyzer='word')\n",
    "X_tf = vectorizer.fit_transform(haiku)\n",
    "\n",
    "df_tf = pd.DataFrame(X_tf.toarray(), columns=vectorizer.get_feature_names_out())\n",
    "df_tf"
   ]
  },
  {
   "cell_type": "code",
   "execution_count": null,
   "id": "482bc318-2779-4905-866f-79453624fc15",
   "metadata": {},
   "outputs": [],
   "source": [
    "df_v.loc[1]"
   ]
  },
  {
   "cell_type": "code",
   "execution_count": null,
   "id": "ec55df37-5eb2-4a22-91ac-5aedc5c1027f",
   "metadata": {},
   "outputs": [],
   "source": [
    "py.append(df.loc[i].tolist())\n",
    "px.append(df.columns.tolist())\n",
    "\n",
    "fig = plt.figure(tight_layout=True)\n",
    "\n",
    "ax1 = fig.add_subplot(1, 2, 1)\n",
    "ax1.bar(df_v.columns.tolist(), df_v.loc[1].tolist())\n",
    "ax1.set_ylim(bottom=0, top=1)\n",
    "ax1.set_title(haiku)\n",
    "\n",
    "ax2 = fig.add_subplot(1, 2, 2)\n",
    "ax2.bar(df_tf.columns.tolist(), df_tf.loc[1].tolist())\n",
    "ax2.set_ylim(bottom=0, top=1)\n",
    "ax2.set_title(haiku)\n",
    "\n",
    "\n",
    "plt.show()"
   ]
  },
  {
   "cell_type": "code",
   "execution_count": null,
   "id": "d0047973-8ab1-48f3-96c9-16211dd23929",
   "metadata": {},
   "outputs": [],
   "source": []
  }
 ],
 "metadata": {
  "kernelspec": {
   "display_name": "Python 3 (ipykernel)",
   "language": "python",
   "name": "python3"
  },
  "language_info": {
   "codemirror_mode": {
    "name": "ipython",
    "version": 3
   },
   "file_extension": ".py",
   "mimetype": "text/x-python",
   "name": "python",
   "nbconvert_exporter": "python",
   "pygments_lexer": "ipython3",
   "version": "3.7.11"
  }
 },
 "nbformat": 4,
 "nbformat_minor": 5
}
