{
 "cells": [
  {
   "cell_type": "markdown",
   "id": "6a64731f-18f4-47dc-8f51-d51a8406e940",
   "metadata": {},
   "source": [
    "# Agenda\n",
    "These are the contents of the materials.\n",
    "1. Hands-on exercise of basic machine learning technique.\n",
    "2. How to find a solution, which is related to backpropagation, numerical simulation, etc.\n",
    "\n",
    "There are notebooks with data analysis, image recognition, and natural language processing."
   ]
  },
  {
   "cell_type": "markdown",
   "id": "fb472b47-db56-42c8-aea5-7889ff69c196",
   "metadata": {},
   "source": [
    "# Checking availability of libraries\n",
    "Run the next cell with \"Shit + Enter\" or hit the \"Run\" button. Please confirm that the previous cell runs without any error. If you see a \"success\" message, please proceed to the next step."
   ]
  },
  {
   "cell_type": "code",
   "execution_count": null,
   "id": "ff101059-21d0-4054-86cd-7ce307cc34ea",
   "metadata": {},
   "outputs": [],
   "source": [
    "!pip install numpy==1.21.3\n",
    "!pip install pandas\n",
    "!pip install tabula==1.0.5\n",
    "!pip install pdfminer.six==20211012\n",
    "!pip install seaborn\n",
    "!pip install -U scikit-learn\n",
    "!pip install tqdm"
   ]
  },
  {
   "cell_type": "code",
   "execution_count": null,
   "id": "79837c32-1145-4e0b-965b-9926feb13302",
   "metadata": {
    "tags": []
   },
   "outputs": [],
   "source": [
    "import re\n",
    "import glob\n",
    "\n",
    "import numpy as np\n",
    "import pandas as pd\n",
    "import seaborn\n",
    "import sklearn\n",
    "\n",
    "import matplotlib as mpl\n",
    "import matplotlib.pyplot as plt\n",
    "\n",
    "import tqdm\n",
    "import tabula\n",
    "\n",
    "from PIL import Image\n",
    "from pdfminer.high_level import extract_text\n",
    "\n",
    "Image.open(\"image/1547492564Congratulations-image-free-party.jpg\")"
   ]
  },
  {
   "cell_type": "code",
   "execution_count": null,
   "id": "8dcc8be8-3b78-4b19-9f04-2ef526891f20",
   "metadata": {},
   "outputs": [],
   "source": []
  }
 ],
 "metadata": {
  "kernelspec": {
   "display_name": "Python 3 (ipykernel)",
   "language": "python",
   "name": "python3"
  },
  "language_info": {
   "codemirror_mode": {
    "name": "ipython",
    "version": 3
   },
   "file_extension": ".py",
   "mimetype": "text/x-python",
   "name": "python",
   "nbconvert_exporter": "python",
   "pygments_lexer": "ipython3",
   "version": "3.7.11"
  }
 },
 "nbformat": 4,
 "nbformat_minor": 5
}
