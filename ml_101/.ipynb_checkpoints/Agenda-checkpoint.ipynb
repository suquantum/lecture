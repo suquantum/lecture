{
 "cells": [
  {
   "cell_type": "markdown",
   "id": "6a64731f-18f4-47dc-8f51-d51a8406e940",
   "metadata": {},
   "source": [
    "# Agenda\n",
    "These are the contents of the materials.\n",
    "1. Hands-on exercise of basic machine learning technique.\n",
    "2. How to find a solution, which is related to backpropagation, numerical simulation, etc."
   ]
  },
  {
   "cell_type": "markdown",
   "id": "fb472b47-db56-42c8-aea5-7889ff69c196",
   "metadata": {},
   "source": [
    "# Checking all of the libraries are imported\n",
    "Run the next cell with \"Shit + Enter\" or hit the \"Run\" button. Please confirm that the previous cell runs without any error. If you see a \"success\" message, please proceed to the next step."
   ]
  },
  {
   "cell_type": "code",
   "execution_count": null,
   "id": "79837c32-1145-4e0b-965b-9926feb13302",
   "metadata": {
    "tags": []
   },
   "outputs": [],
   "source": [
    "import re\n",
    "import glob\n",
    "\n",
    "import numpy as np\n",
    "import pandas as pd\n",
    "import seaborn\n",
    "import sklearn\n",
    "import matplotlib.pyplot\n",
    "\n",
    "import tqdm\n",
    "import tabula\n",
    "\n",
    "from PIL import Image\n",
    "from pdfminer.high_level import extract_text\n",
    "\n",
    "Image.open(\"image/1547492564Congratulations-image-free-party.jpg\")"
   ]
  },
  {
   "cell_type": "code",
   "execution_count": null,
   "id": "2d101f1e-7d10-43ae-9ec0-21bae445cfe5",
   "metadata": {},
   "outputs": [],
   "source": []
  }
 ],
 "metadata": {
  "kernelspec": {
   "display_name": "Python 3 (ipykernel)",
   "language": "python",
   "name": "python3"
  },
  "language_info": {
   "codemirror_mode": {
    "name": "ipython",
    "version": 3
   },
   "file_extension": ".py",
   "mimetype": "text/x-python",
   "name": "python",
   "nbconvert_exporter": "python",
   "pygments_lexer": "ipython3",
   "version": "3.7.12"
  }
 },
 "nbformat": 4,
 "nbformat_minor": 5
}
