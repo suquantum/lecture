{
 "cells": [
  {
   "cell_type": "markdown",
   "id": "a6b1c849-ed96-441d-9ade-1596fc0fe4ac",
   "metadata": {
    "tags": []
   },
   "source": [
    "# Agenda\n",
    "We are going to review data gathering and cleaning. Also, we review interpolation and extrapolation."
   ]
  },
  {
   "cell_type": "markdown",
   "id": "ed3de0bf-5640-464b-852e-ac117e20acc7",
   "metadata": {},
   "source": [
    "# Importing Library\n",
    "The following cell is importing the necessary library. Run each cell to load the input/output.\n",
    "\n",
    "For the basic operation of Jupyter Lab, please refer to the link(https://youtu.be/jZ952vChhuI?t=113)."
   ]
  },
  {
   "cell_type": "code",
   "execution_count": null,
   "id": "cb8390ec-7749-4330-945e-d4810ed1a4c1",
   "metadata": {},
   "outputs": [],
   "source": [
    "import re\n",
    "import glob\n",
    "\n",
    "import numpy as np\n",
    "import pandas as pd\n",
    "\n",
    "import matplotlib as mpl\n",
    "import matplotlib.pyplot as plt\n",
    "\n",
    "import tabula\n",
    "from pdfminer.high_level import extract_text"
   ]
  },
  {
   "cell_type": "code",
   "execution_count": null,
   "id": "4a4ac05f-2b44-442b-8e3c-a6dffb29f8d6",
   "metadata": {},
   "outputs": [],
   "source": [
    "files = glob.glob(\"data/*.pdf\")\n",
    "\n",
    "for i, j in enumerate(files):\n",
    "    print(\"File index:\", i, \",  File name:\", j.split(\"/\")[-1])"
   ]
  },
  {
   "cell_type": "code",
   "execution_count": null,
   "id": "5f6ea09f-5dbb-4ae7-a771-2c6d5a9cdd6e",
   "metadata": {
    "tags": []
   },
   "outputs": [],
   "source": [
    "im = extract_text(files[0])\n",
    "print(im)"
   ]
  },
  {
   "cell_type": "code",
   "execution_count": null,
   "id": "c8d8d46d-f9e9-473e-a801-5105329c6e83",
   "metadata": {},
   "outputs": [],
   "source": [
    "df = pd.read_csv('data/hino_csv_out.csv', header=1, index_col=0)\n",
    "df"
   ]
  },
  {
   "cell_type": "code",
   "execution_count": null,
   "id": "d242b77c-ba94-4f88-a304-332b3ac57758",
   "metadata": {
    "tags": []
   },
   "outputs": [],
   "source": [
    "df = df.applymap(lambda x: x.replace(',', '')).astype(float)\n",
    "df = df.T\n",
    "\n",
    "plt.xlabel(\"Year\")\n",
    "plt.ylabel(\"Asset (M Yen)\")\n",
    "plt.plot(df[\"純資産(百万円)\"])"
   ]
  },
  {
   "cell_type": "code",
   "execution_count": null,
   "id": "d1734874-bdf8-4e5f-8751-923814d6e63b",
   "metadata": {},
   "outputs": [],
   "source": [
    "x = df.index.astype(float).to_list()\n",
    "y = df[\"純資産(百万円)\"].to_list()\n",
    "\n",
    "# Plotting figure\n",
    "plt.scatter(x, y, color=\"red\")\n",
    "plt.title(\"Scatter Plot of the data\")\n",
    "plt.xlabel(\"Year\")\n",
    "plt.ylabel(\"Asset (M Yen)\")\n",
    "\n",
    "# Fitting\n",
    "linear_model=np.polyfit(x, y, deg=4)\n",
    "linear_model_fn=np.poly1d(linear_model)\n",
    "x_s=np.arange(2012,2022)\n",
    "\n",
    "plt.plot(x_s,linear_model_fn(x_s),color=\"y\")\n",
    "plt.plot(x, df[\"純資産(百万円)\"])"
   ]
  },
  {
   "cell_type": "code",
   "execution_count": null,
   "id": "273f882c-1f76-4696-9fd0-7d912856d590",
   "metadata": {},
   "outputs": [],
   "source": [
    "x = df.index.astype(float).to_list()\n",
    "y = df[\"純資産(百万円)\"].to_list()\n",
    "\n",
    "# Plotting figure\n",
    "plt.scatter(x, y, color=\"red\")\n",
    "plt.title(\"Scatter Plot of the data\")\n",
    "plt.xlabel(\"Year\")\n",
    "plt.ylabel(\"Asset (M Yen)\")\n",
    "\n",
    "# Fitting\n",
    "linear_model=np.polyfit(x, y, deg=4)\n",
    "linear_model_fn=np.poly1d(linear_model)\n",
    "x_s=np.arange(2012,2026)\n",
    "\n",
    "plt.plot(x_s,linear_model_fn(x_s),color=\"y\")"
   ]
  },
  {
   "cell_type": "code",
   "execution_count": null,
   "id": "0b70555e-c3de-47e4-865d-ff9b9f814980",
   "metadata": {},
   "outputs": [],
   "source": [
    "x_i = 2012\n",
    "x_f = 2028\n",
    "\n",
    "x1 = df.index.astype(float).to_list()\n",
    "y1 = df[\"純資産(百万円)\"].to_list()\n",
    "\n",
    "x2 = df.index.astype(float).to_list()\n",
    "y2 = df[\"純資産(百万円)\"].to_list()\n",
    "\n",
    "# Plot figure\n",
    "plt.scatter(x1, y1, color=\"red\")\n",
    "plt.title(\"Scatter Plot of the data\")\n",
    "plt.xlabel(\"Year\")\n",
    "plt.ylabel(\"Asset (M Yen)\")\n",
    "\n",
    "plt.scatter(x2, y2, color=\"red\")\n",
    "plt.title(\"Scatter Plot of the data\")\n",
    "plt.xlabel(\"Year\")\n",
    "plt.ylabel(\"Asset (M Yen)\")\n",
    "\n",
    "# Fitting\n",
    "linear_model1=np.polyfit(x1, y1, deg=3)\n",
    "linear_model_fn1=np.poly1d(linear_model1)\n",
    "x_s1=np.arange(x_i, x_f)\n",
    "\n",
    "linear_model2=np.polyfit(x2, y2, deg=4)\n",
    "linear_model_fn2=np.poly1d(linear_model2)\n",
    "x_s2=np.arange(x_i, x_f)\n",
    "\n",
    "plt.plot(x_s1,linear_model_fn1(x_s1),color=\"b\")\n",
    "\n",
    "plt.plot(x_s2,linear_model_fn2(x_s2),color=\"y\")\n",
    "\n",
    "plt.show()"
   ]
  },
  {
   "cell_type": "markdown",
   "id": "b7097dc1-f777-4ac3-b517-7066a0707cdf",
   "metadata": {},
   "source": [
    "### Exercise 3.1.\n",
    "Run the following cell and extrapolate the result with tuning parameters. Which parameter is the best and why do you think it is the best? Change the x_i and x_f which is the start and end year of the simulation, respectively. Also, changing the param_deg is the fitting parameter of the polynomial degree of freedom."
   ]
  },
  {
   "cell_type": "code",
   "execution_count": null,
   "id": "7e9273b6-75e9-4cef-9a9c-5bfc1d28507f",
   "metadata": {},
   "outputs": [],
   "source": [
    "#####\n",
    "### YOUR CODE STARTS HERE ###\n",
    "x_i = 2012  # This is the start year of the simulation.\n",
    "x_f = 2028  # This is the end year of the simulation which you can change.\n",
    "param_deg = 1  # This is an integer parameter(param_deg >= 0).\n",
    "### YOUR CODE ENDS HERE ###\n",
    "#####\n",
    "\n",
    "\n",
    "x1 = df.index.astype(float).to_list()\n",
    "y1 = df[\"純資産(百万円)\"].to_list()\n",
    "\n",
    "x2 = df.index.astype(float).to_list()\n",
    "y2 = df[\"売上高(百万円)\"].to_list()\n",
    "\n",
    "# Plot figure\n",
    "fig = plt.figure()\n",
    "\n",
    "# fig 1\n",
    "ax1 = fig.add_subplot(1, 2, 1)   #1行２列の１番目\n",
    "ax1.scatter(x1, y1, color=\"red\")\n",
    "ax1.set_title(\"Year vs. Net Asset\")\n",
    "\n",
    "# Fitting\n",
    "linear_model1 = np.polyfit(x1, y1, deg=param_deg)\n",
    "linear_model_fn1 = np.poly1d(linear_model1)\n",
    "x_s1 = np.arange(x_i, x_f)\n",
    "plt.plot(x_s1, linear_model_fn1(x_s1), color=\"b\")\n",
    "\n",
    "# fig 2\n",
    "ax2 = fig.add_subplot(1, 2, 2)   #１行２列の２番目\n",
    "ax2.scatter(x2, y2)\n",
    "ax2.set_title(\"Year vs. Net Sales\")\n",
    "\n",
    "plt.show()"
   ]
  },
  {
   "cell_type": "markdown",
   "id": "3eea6c47-1fed-42b8-ad7b-fe30f5e8b18a",
   "metadata": {},
   "source": [
    "### Exercise 3.2.\n",
    "This exercise will be challenging.\n",
    "\n",
    "Extract the same table from the data that you used before. The following is an example.\n",
    "\n",
    "|  | 回次 | 第103期 | 第104期 | 第105期 | 第106期 | 第107期 | 第108期 |\n",
    "| ---: | ---: | ---: | ---: | ---: | ---: | ---: | ---: |\n",
    "| 0 | 決算年月 | 2015年3月 | 2016年3月 | 2017年3月 | 2018年3月 | 2019年3月 | 2020年3月 |\n",
    "| 1 | 売上高(百万円) | 1,685,298 | 1,745,540 | 1,683,720 | 1,837,982 | 1,981,331 | 1,815,597 |\n",
    "| 2 | 経常利益(百万円) | 104,600 | 95,892 | 72,042 | 80,422 | 83,903 | 49,596 |\n",
    "| 3 | 包括利益(百万円) | 108,642 | 29,498 | 57,152 | 60,764 | 63,273 | 18,753 |\n",
    "| 4 | 純資産(百万円) | 465,370 | 473,891 | 512,913 | 552,848 | 596,459 | 592,680 |\n",
    "| 5 | 総資産(百万円) | 1,124,196 | 1,119,888 | 1,192,385 | 1,286,081 | 1,345,821 | 1,275,080 |\n",
    "| 6 | 1株当たり純資産額(円) | 730.63 | 748.89 | 811.07 | 875.40 | 945.42 | 944.53 |\n",
    "| 7 | 1株当たり当期純利益金額(円) | 130.06 | 113.62 | 86.15 | 89.52 | 95.66 | 54.82 |\n",
    "| 8 | 自己資本比率(%) | 37.3 | 38.3 | 39.0 | 39.1 | 40.3 | 42.5 |\n",
    "| 9 | 自己資本利益率(%) | 19.7 | 15.4 | 11.0 | 10.6 | 10.5 | 5.8 |\n",
    "| 10 | 株価収益率(倍) | 13.2 | 10.7 | 15.6 | 15.3 | 9.7 | 10.6 |\n",
    "\n",
    "The data can be found from the following link [(Click here)](https://www.hino.co.jp/corp/for_investors/financial_statements.html). For your information, you can use the following code."
   ]
  },
  {
   "cell_type": "code",
   "execution_count": null,
   "id": "51072177-5e28-485e-9fb9-e9bccbed3ce1",
   "metadata": {
    "tags": []
   },
   "outputs": [],
   "source": [
    "dfs = []\n",
    "for i in enumerate(files):\n",
    "    dfs.append(tabula.read_pdf(files[0], lattice=True, pages = '5'))"
   ]
  },
  {
   "cell_type": "code",
   "execution_count": null,
   "id": "4ba3416f-e585-4691-8cfd-dfb37119024b",
   "metadata": {
    "tags": []
   },
   "outputs": [],
   "source": [
    "for df in dfs:\n",
    "    display(df)"
   ]
  },
  {
   "cell_type": "code",
   "execution_count": null,
   "id": "a4d050e3-ce1d-41f6-aac9-96429dffa117",
   "metadata": {
    "tags": []
   },
   "outputs": [],
   "source": [
    "pd.merge(dfs[0], dfs[1])"
   ]
  },
  {
   "cell_type": "code",
   "execution_count": null,
   "id": "0eb0d6b0-65b0-4894-937c-12c9986f0f98",
   "metadata": {},
   "outputs": [],
   "source": []
  }
 ],
 "metadata": {
  "kernelspec": {
   "display_name": "Python 3 (ipykernel)",
   "language": "python",
   "name": "python3"
  },
  "language_info": {
   "codemirror_mode": {
    "name": "ipython",
    "version": 3
   },
   "file_extension": ".py",
   "mimetype": "text/x-python",
   "name": "python",
   "nbconvert_exporter": "python",
   "pygments_lexer": "ipython3",
   "version": "3.7.12"
  }
 },
 "nbformat": 4,
 "nbformat_minor": 5
}
